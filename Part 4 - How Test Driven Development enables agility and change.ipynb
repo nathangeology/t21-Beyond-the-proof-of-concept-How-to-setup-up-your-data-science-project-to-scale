{
 "cells": [
  {
   "cell_type": "markdown",
   "metadata": {
    "collapsed": true
   },
   "source": [
    "# Part 4: Test Driven Development Enables Agility and Change"
   ]
  },
  {
   "cell_type": "markdown",
   "metadata": {},
   "source": [
    "Test driven development goes like this:\n",
    "- Write a failing test for some bit of code you want to write\n",
    "- Write the code to pass this test\n",
    "- Refactor/Improve the Code while checking that the test still passes\n",
    "... and then move on to the next thing...\n",
    "\n",
    "#### Why is this important?\n",
    "\n",
    "As the project gets more complex and the number of people working on it increase, this gets more and more important. It allows any worker (and automated scripts!!) to verify that the code is still functional (for the tests at least) and that means you can confidently make changes and write new code that at least hasn't broken any tests. (It's a good idea to write new tests for bugs that slip past too!) Let's look at an example:\n"
   ]
  },
  {
   "cell_type": "code",
   "execution_count": null,
   "metadata": {},
   "outputs": [],
   "source": [
    "# Example here"
   ]
  }
 ],
 "metadata": {
  "kernelspec": {
   "display_name": "Python 3",
   "language": "python",
   "name": "python3"
  },
  "language_info": {
   "codemirror_mode": {
    "name": "ipython",
    "version": 3
   },
   "file_extension": ".py",
   "mimetype": "text/x-python",
   "name": "python",
   "nbconvert_exporter": "python",
   "pygments_lexer": "ipython3",
   "version": "3.8.2"
  }
 },
 "nbformat": 4,
 "nbformat_minor": 1
}
